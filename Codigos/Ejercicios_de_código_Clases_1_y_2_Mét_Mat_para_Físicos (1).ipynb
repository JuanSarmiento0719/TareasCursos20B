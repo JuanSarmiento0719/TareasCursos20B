{
  "nbformat": 4,
  "nbformat_minor": 0,
  "metadata": {
    "colab": {
      "provenance": [],
      "collapsed_sections": [
        "xR2F6ANE8JM_"
      ]
    },
    "kernelspec": {
      "name": "python3",
      "display_name": "Python 3"
    },
    "language_info": {
      "name": "python"
    }
  },
  "cells": [
    {
      "cell_type": "markdown",
      "source": [
        "# **Métodos Matemáticos para Físicos 2025-2**\n",
        "## Códigos correspondientes al taller de la Clase 1 y Clase 2\n",
        "**Nombre:** Juan Diego Sarmiento Villarreal\n",
        "**Código:** 2240676"
      ],
      "metadata": {
        "id": "xR2F6ANE8JM_"
      }
    },
    {
      "cell_type": "markdown",
      "source": [
        "**Ejercicio 1 - Clase 1**"
      ],
      "metadata": {
        "id": "zJ5esxgc9Frm"
      }
    },
    {
      "cell_type": "code",
      "source": [
        "import sympy as sp\n",
        "from sympy import *\n",
        "# Input para que el usuario ingrese los vectores\n",
        "entrada1 = input(\"Ingrese vector a, con sus componentes separadas por comas \")\n",
        "entrada2 = input(\"Ingrese vector b \")\n",
        "entrada3 = input(\"Ingrese vector c \")\n",
        "\n",
        "# Creación de las matrices\n",
        "val1 = [sympify(x.strip()) for x in entrada1.split(',')]\n",
        "val2 = [sympify(x.strip()) for x in entrada2.split(',')]\n",
        "val3 = [sympify(x.strip()) for x in entrada3.split(',')]\n",
        "\n",
        "# Listado de los vectores\n",
        "v1 = Matrix(val1)\n",
        "v2 = Matrix(val2)\n",
        "v3 = Matrix(val3)\n",
        "\n",
        "print(\"Dado los vectores:\")\n",
        "print(\"a=\")\n",
        "display(v1)\n",
        "\n",
        "print(\"b=\")\n",
        "display(v2)\n",
        "\n",
        "print(\"c=\")\n",
        "display(v3)\n",
        "\n",
        "# Cálculo del centroide\n",
        "g = (v1 + v2 + v3) * Rational(1, 3)\n",
        "print(\"El vector centroide es:\")\n",
        "display(g)"
      ],
      "metadata": {
        "colab": {
          "base_uri": "https://localhost:8080/",
          "height": 318
        },
        "id": "7OcsnMfA9FUG",
        "outputId": "50dee195-d75b-46b4-8ecf-aae7574404cf"
      },
      "execution_count": null,
      "outputs": [
        {
          "output_type": "stream",
          "name": "stdout",
          "text": [
            "Ingrese vector a, con sus componentes separadas por comas 2,2\n",
            "Ingrese vector b 3,3\n",
            "Ingrese vector c 4,4\n",
            "Dado los vectores:\n",
            "a=\n"
          ]
        },
        {
          "output_type": "display_data",
          "data": {
            "text/plain": [
              "Matrix([\n",
              "[2],\n",
              "[2]])"
            ],
            "text/latex": "$\\displaystyle \\left[\\begin{matrix}2\\\\2\\end{matrix}\\right]$"
          },
          "metadata": {}
        },
        {
          "output_type": "stream",
          "name": "stdout",
          "text": [
            "b=\n"
          ]
        },
        {
          "output_type": "display_data",
          "data": {
            "text/plain": [
              "Matrix([\n",
              "[3],\n",
              "[3]])"
            ],
            "text/latex": "$\\displaystyle \\left[\\begin{matrix}3\\\\3\\end{matrix}\\right]$"
          },
          "metadata": {}
        },
        {
          "output_type": "stream",
          "name": "stdout",
          "text": [
            "c=\n"
          ]
        },
        {
          "output_type": "display_data",
          "data": {
            "text/plain": [
              "Matrix([\n",
              "[4],\n",
              "[4]])"
            ],
            "text/latex": "$\\displaystyle \\left[\\begin{matrix}4\\\\4\\end{matrix}\\right]$"
          },
          "metadata": {}
        },
        {
          "output_type": "stream",
          "name": "stdout",
          "text": [
            "El vector centroide es:\n"
          ]
        },
        {
          "output_type": "display_data",
          "data": {
            "text/plain": [
              "Matrix([\n",
              "[3],\n",
              "[3]])"
            ],
            "text/latex": "$\\displaystyle \\left[\\begin{matrix}3\\\\3\\end{matrix}\\right]$"
          },
          "metadata": {}
        }
      ]
    },
    {
      "cell_type": "markdown",
      "source": [
        "**Ejercicio 2 - Clase 1**"
      ],
      "metadata": {
        "id": "LTvz8Wlk9FKO"
      }
    },
    {
      "cell_type": "code",
      "source": [
        "# Vectores dados:\n",
        "a = Matrix([[1,2,3]])\n",
        "b = Matrix([[4,5,6]])\n",
        "c = Matrix([[3,2,1]])\n",
        "d = Matrix([[6,5,4]])\n",
        "\n",
        "# Punto A\n",
        "print(\"a) Suma de vectores\")\n",
        "print(\"|a+b+c+d:\")\n",
        "display(a+b+c+d)\n",
        "print(\"|a+b-c-d:\")\n",
        "display(a+b-c-d)\n",
        "print(\"|a-b+c-d:\")\n",
        "display(a-b+c-d)\n",
        "print(\"|-a+b-c+d:\")\n",
        "display(-a+b-c+d)\n",
        "\n",
        "# Punto B\n",
        "# Los vectores base e1, e2, e3, son los siguientes:\n",
        "e1 = Matrix([[1,0,0]])\n",
        "e2 = Matrix([[0,1,0]])\n",
        "e3 = Matrix([[0,0,1]])\n",
        "# Función para calcular el ángulo entre dos vectores u,v:\n",
        "def angulo(u,v):\n",
        " # Fórmula: cosθ = (u·v) / (||u|| ||v||)\n",
        "    return acos((u.dot(v)) / (u.norm() * v.norm()))\n",
        "print(\"b) Ángulo entre cada vector y los vectores base\")\n",
        "# el \"for\" toma lo asignado en corchetes y lo guarda con su nombre correspondiente, \"nombre\" y \"vec\" para ejercutarlos en conjunto\n",
        "for nombre, vec in zip([\"a\",\"b\",\"c\",\"d\"], [a,b,c,d]):\n",
        "    print(f\"Vector {nombre}:\")\n",
        "# este \"for\" hace lo mismo pero para las bases, así se le asigna un nombre, que se ve como una variable, por eso se usa \"f\" en el \"print\"\n",
        "    for nombre_base, base in zip([\"e1\",\"e2\",\"e3\"], [e1,e2,e3]):\n",
        "      ang_rad = round(angulo(vec, base).evalf(), 4)           # ángulo en radianes (aquí se realiza el cálculo)\n",
        "      ang_deg = round((ang_rad * 180 / sp.pi).evalf(), 4)     # ángulo en grados (hace la operación manualmente con el valor en radianes)\n",
        "# \"f\" permite agregar variables en corchetes en el print\n",
        "      print(f\"Ángulo {nombre} con {nombre_base} = {ang_rad} rad | {ang_deg}°\")\n",
        "\n",
        "# Punto C\n",
        "print(\"c) La magnitud de los vectores a, b, c, d\")\n",
        "for nombre, vec in zip([\"a\",\"b\",\"c\",\"d\"], [a,b,c,d]):\n",
        "  magnitud = vec.norm()\n",
        "  print(f\" Magnitud {nombre} =\")\n",
        "  display(magnitud) # el display es para que salga dibujada la raíz, y no como sqrt\n",
        "\n",
        "# Punto D\n",
        "ang_rad_ab = round(angulo(a,b).evalf(), 4)\n",
        "ang_deg_ab = round((ang_rad_ab * 180 / sp.pi).evalf(), 4)\n",
        "\n",
        "ang_rad_cd = round(angulo(c,d).evalf(), 4)\n",
        "ang_deg_cd = round((ang_rad_cd * 180 / sp.pi).evalf(), 4)\n",
        "\n",
        "print(\"d) Ángulo entre vectores a y b, y c y d\")\n",
        "print(f\"Ángulo entre a y b = {ang_rad_ab} rad | {ang_deg_ab}°\")\n",
        "print(f\"Ángulo entre c y d = {ang_rad_cd} rad | {ang_deg_cd}°\")\n",
        "\n",
        "# Punto E\n",
        "proy_ab = (a.dot(b)/b.norm()**2)*b\n",
        "print(\"e) Proyección de a sobre b\")\n",
        "print(\"|proy_ab:\")\n",
        "display(proy_ab)\n",
        "\n",
        "# Punto F\n",
        "M = sp.Matrix.hstack(a, b, c, d)\n",
        "rango = M.rank()\n",
        "# Si la matriz formada por los vectores del problema es de rango mayor a 3, significa que hay al menos un vector afuera del plano en el que sí estan los demás\n",
        "print(\"f) Coplanaridad entre los vectores\")\n",
        "print(\"Rango de la matriz formada por a, b, c y d=\", rango)\n",
        "if rango <= 2:\n",
        "    print(\"Los vectores a,b,c y d son coplanares\")\n",
        "else:\n",
        "    print(\"Los vectores a,b,c y d NO son coplanares\")\n",
        "\n",
        "# Punto G\n",
        "a_b= a + b\n",
        "c_d= c + d\n",
        "producto_g = a_b.dot(c_d)\n",
        "print(\"g) Producto punto entre a+b y c+d\")\n",
        "print(\"| Escalar del producto_g:\")\n",
        "display(producto_g)\n",
        "\n",
        "# Punto H\n",
        "a_cruz_b = a.cross(b)\n",
        "b_cruz_c = b.cross(c)\n",
        "c_cruz_d = c.cross(d)\n",
        "print(\"h) Producto cruz entre a, b, c y d\")\n",
        "print(\"|a x b:\")\n",
        "display(a_cruz_b)\n",
        "print(\"|b x c:\")\n",
        "display(b_cruz_c)\n",
        "print(\"|c x d:\")\n",
        "display(c_cruz_d)\n",
        "print(\"Ángulos que forman cada uno con d\")\n",
        "print(\"Ángulo entre a x b y d =\")\n",
        "display(angulo(a_cruz_b, d))\n",
        "print(\"Ángulo entre b x c y d =\")\n",
        "display(angulo(b_cruz_c, d))\n",
        "print(\"Ángulo entre c x d y d =\")\n",
        "display(angulo(c_cruz_d, d))\n",
        "\n",
        "# Punto I\n",
        "operación_i= c.dot(a.cross(b))\n",
        "print(\"i) Producto punto entre c y a x b\")\n",
        "print(\"| Escalar de operación_i:\")\n",
        "display(operación_i)"
      ],
      "metadata": {
        "colab": {
          "base_uri": "https://localhost:8080/",
          "height": 1000
        },
        "id": "4BUG-whA9EpW",
        "outputId": "3a32f06d-d814-4e3b-a16c-509c9a4e8f5c"
      },
      "execution_count": null,
      "outputs": [
        {
          "output_type": "stream",
          "name": "stdout",
          "text": [
            "a) Suma de vectores\n",
            "|a+b+c+d:\n"
          ]
        },
        {
          "output_type": "display_data",
          "data": {
            "text/plain": [
              "Matrix([[14, 14, 14]])"
            ],
            "text/latex": "$\\displaystyle \\left[\\begin{matrix}14 & 14 & 14\\end{matrix}\\right]$"
          },
          "metadata": {}
        },
        {
          "output_type": "stream",
          "name": "stdout",
          "text": [
            "|a+b-c-d:\n"
          ]
        },
        {
          "output_type": "display_data",
          "data": {
            "text/plain": [
              "Matrix([[-4, 0, 4]])"
            ],
            "text/latex": "$\\displaystyle \\left[\\begin{matrix}-4 & 0 & 4\\end{matrix}\\right]$"
          },
          "metadata": {}
        },
        {
          "output_type": "stream",
          "name": "stdout",
          "text": [
            "|a-b+c-d:\n"
          ]
        },
        {
          "output_type": "display_data",
          "data": {
            "text/plain": [
              "Matrix([[-6, -6, -6]])"
            ],
            "text/latex": "$\\displaystyle \\left[\\begin{matrix}-6 & -6 & -6\\end{matrix}\\right]$"
          },
          "metadata": {}
        },
        {
          "output_type": "stream",
          "name": "stdout",
          "text": [
            "|-a+b-c+d:\n"
          ]
        },
        {
          "output_type": "display_data",
          "data": {
            "text/plain": [
              "Matrix([[6, 6, 6]])"
            ],
            "text/latex": "$\\displaystyle \\left[\\begin{matrix}6 & 6 & 6\\end{matrix}\\right]$"
          },
          "metadata": {}
        },
        {
          "output_type": "stream",
          "name": "stdout",
          "text": [
            "b) Ángulo entre cada vector y los vectores base\n",
            "Vector a:\n",
            "Ángulo a con e1 = 1.3002 rad | 74.4959°\n",
            "Ángulo a con e2 = 1.0069 rad | 57.6912°\n",
            "Ángulo a con e3 = 0.6405 rad | 36.6983°\n",
            "Vector b:\n",
            "Ángulo b con e1 = 1.0975 rad | 62.8821°\n",
            "Ángulo b con e2 = 0.9645 rad | 55.2616°\n",
            "Ángulo b con e3 = 0.8179 rad | 46.8624°\n",
            "Vector c:\n",
            "Ángulo c con e1 = 0.6405 rad | 36.6983°\n",
            "Ángulo c con e2 = 1.0069 rad | 57.6912°\n",
            "Ángulo c con e3 = 1.3002 rad | 74.4959°\n",
            "Vector d:\n",
            "Ángulo d con e1 = 0.8179 rad | 46.8624°\n",
            "Ángulo d con e2 = 0.9645 rad | 55.2616°\n",
            "Ángulo d con e3 = 1.0975 rad | 62.8821°\n",
            "c) La magnitud de los vectores a, b, c, d\n",
            " Magnitud a =\n"
          ]
        },
        {
          "output_type": "display_data",
          "data": {
            "text/plain": [
              "sqrt(14)"
            ],
            "text/latex": "$\\displaystyle \\sqrt{14}$"
          },
          "metadata": {}
        },
        {
          "output_type": "stream",
          "name": "stdout",
          "text": [
            " Magnitud b =\n"
          ]
        },
        {
          "output_type": "display_data",
          "data": {
            "text/plain": [
              "sqrt(77)"
            ],
            "text/latex": "$\\displaystyle \\sqrt{77}$"
          },
          "metadata": {}
        },
        {
          "output_type": "stream",
          "name": "stdout",
          "text": [
            " Magnitud c =\n"
          ]
        },
        {
          "output_type": "display_data",
          "data": {
            "text/plain": [
              "sqrt(14)"
            ],
            "text/latex": "$\\displaystyle \\sqrt{14}$"
          },
          "metadata": {}
        },
        {
          "output_type": "stream",
          "name": "stdout",
          "text": [
            " Magnitud d =\n"
          ]
        },
        {
          "output_type": "display_data",
          "data": {
            "text/plain": [
              "sqrt(77)"
            ],
            "text/latex": "$\\displaystyle \\sqrt{77}$"
          },
          "metadata": {}
        },
        {
          "output_type": "stream",
          "name": "stdout",
          "text": [
            "d) Ángulo entre vectores a y b, y c y d\n",
            "Ángulo entre a y b = 0.2257 rad | 12.9316°\n",
            "Ángulo entre c y d = 0.2257 rad | 12.9316°\n",
            "e) Proyección de a sobre b\n",
            "|proy_ab:\n"
          ]
        },
        {
          "output_type": "display_data",
          "data": {
            "text/plain": [
              "Matrix([[128/77, 160/77, 192/77]])"
            ],
            "text/latex": "$\\displaystyle \\left[\\begin{matrix}\\frac{128}{77} & \\frac{160}{77} & \\frac{192}{77}\\end{matrix}\\right]$"
          },
          "metadata": {}
        },
        {
          "output_type": "stream",
          "name": "stdout",
          "text": [
            "f) Coplanaridad entre los vectores\n",
            "Rango de la matriz formada por a, b, c y d= 1\n",
            "Los vectores a,b,c y d son coplanares\n",
            "g) Producto punto entre a+b y c+d\n",
            "| Escalar del producto_g:\n"
          ]
        },
        {
          "output_type": "display_data",
          "data": {
            "text/plain": [
              "139"
            ],
            "text/latex": "$\\displaystyle 139$"
          },
          "metadata": {}
        },
        {
          "output_type": "stream",
          "name": "stdout",
          "text": [
            "h) Producto cruz entre a, b, c y d\n",
            "|a x b:\n"
          ]
        },
        {
          "output_type": "display_data",
          "data": {
            "text/plain": [
              "Matrix([[-3, 6, -3]])"
            ],
            "text/latex": "$\\displaystyle \\left[\\begin{matrix}-3 & 6 & -3\\end{matrix}\\right]$"
          },
          "metadata": {}
        },
        {
          "output_type": "stream",
          "name": "stdout",
          "text": [
            "|b x c:\n"
          ]
        },
        {
          "output_type": "display_data",
          "data": {
            "text/plain": [
              "Matrix([[-7, 14, -7]])"
            ],
            "text/latex": "$\\displaystyle \\left[\\begin{matrix}-7 & 14 & -7\\end{matrix}\\right]$"
          },
          "metadata": {}
        },
        {
          "output_type": "stream",
          "name": "stdout",
          "text": [
            "|c x d:\n"
          ]
        },
        {
          "output_type": "display_data",
          "data": {
            "text/plain": [
              "Matrix([[3, -6, 3]])"
            ],
            "text/latex": "$\\displaystyle \\left[\\begin{matrix}3 & -6 & 3\\end{matrix}\\right]$"
          },
          "metadata": {}
        },
        {
          "output_type": "stream",
          "name": "stdout",
          "text": [
            "Ángulos que forman cada uno con d\n",
            "Ángulo entre a x b y d =\n"
          ]
        },
        {
          "output_type": "display_data",
          "data": {
            "text/plain": [
              "pi/2"
            ],
            "text/latex": "$\\displaystyle \\frac{\\pi}{2}$"
          },
          "metadata": {}
        },
        {
          "output_type": "stream",
          "name": "stdout",
          "text": [
            "Ángulo entre b x c y d =\n"
          ]
        },
        {
          "output_type": "display_data",
          "data": {
            "text/plain": [
              "pi/2"
            ],
            "text/latex": "$\\displaystyle \\frac{\\pi}{2}$"
          },
          "metadata": {}
        },
        {
          "output_type": "stream",
          "name": "stdout",
          "text": [
            "Ángulo entre c x d y d =\n"
          ]
        },
        {
          "output_type": "display_data",
          "data": {
            "text/plain": [
              "pi/2"
            ],
            "text/latex": "$\\displaystyle \\frac{\\pi}{2}$"
          },
          "metadata": {}
        },
        {
          "output_type": "stream",
          "name": "stdout",
          "text": [
            "i) Producto punto entre c y a x b\n",
            "| Escalar de operación_i:\n"
          ]
        },
        {
          "output_type": "display_data",
          "data": {
            "text/plain": [
              "0"
            ],
            "text/latex": "$\\displaystyle 0$"
          },
          "metadata": {}
        }
      ]
    },
    {
      "cell_type": "markdown",
      "source": [
        "**Ejercicio 1 - Clase 2**"
      ],
      "metadata": {
        "id": "_Z04nrCi9EYG"
      }
    },
    {
      "cell_type": "code",
      "execution_count": null,
      "metadata": {
        "colab": {
          "base_uri": "https://localhost:8080/"
        },
        "id": "b8Xmjg0j5PoY",
        "outputId": "584ba1b1-8bbb-4536-fe81-c9660e76f584"
      },
      "outputs": [
        {
          "output_type": "stream",
          "name": "stdout",
          "text": [
            "Trabajo en contra del campo de fuerza:\n",
            "a) 0 a pi: -pi\n",
            "b) 0 a -pi: -pi\n"
          ]
        }
      ],
      "source": [
        "# Definir variables y parámetros\n",
        "# t es el parámetro que recorre la trayectoria\n",
        "# real=True le dice a SymPy que son números reales (no complejos).\n",
        "t = sp.symbols(\"t\", real=True)\n",
        "x, y = sp.symbols(\"x y\", real=True)\n",
        "\n",
        "# Definir el campo de fuerza F\n",
        "# F = (-y/(x^2 + y^2)) i + (x/(x^2 + y^2)) j\n",
        "Fx = -y / (x**2 + y**2)\n",
        "Fy = x / (x**2 + y**2)\n",
        "\n",
        "# Parametrización del círculo de radio 1:\n",
        "# Como es en el plano xy y radio 1, usamos:\n",
        "x_t = sp.cos(t) # coor. x\n",
        "y_t = sp.sin(t) # coor. y\n",
        "\n",
        "# Sustituir x(t) y y(t) en Fx y Fy\n",
        "# .subs sustituye variables por expresiones\n",
        "Fx_t = Fx.subs({x: x_t, y: y_t})\n",
        "Fy_t = Fy.subs({x: x_t, y: y_t})\n",
        "\n",
        "# Vector tangente r'(t)\n",
        "# .diff calcula la derivada\n",
        "dx_dt = sp.diff(x_t, t)\n",
        "dy_dt = sp.diff(y_t, t)\n",
        "# esto da el vector \"r'(t)\" que se necesita para cálcular el trabajo\n",
        "\n",
        "# Producto punto: F(r(t)) · r'(t)\n",
        "F_dot_rp = Fx_t * dx_dt + Fy_t * dy_dt\n",
        "\n",
        "# Calcular el trabajo:\n",
        "# a) De 0 a pi (contrario a las agujas del reloj)\n",
        "W_a = sp.integrate(F_dot_rp, (t, 0, sp.pi))\n",
        "\n",
        "# b) De 0 a -pi (sentido de las agujas del reloj)\n",
        "W_b = sp.integrate(F_dot_rp, (t, 0, -sp.pi))\n",
        "\n",
        "print(\"Trabajo en contra del campo de fuerza:\")\n",
        "print(\"a) 0 a pi:\", -W_a)\n",
        "print(\"b) 0 a -pi:\", W_b)\n"
      ]
    },
    {
      "cell_type": "code",
      "source": [],
      "metadata": {
        "id": "FVrvU6ea6K4k"
      },
      "execution_count": null,
      "outputs": []
    }
  ]
}